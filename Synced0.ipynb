{
 "cells": [
  {
   "cell_type": "code",
   "execution_count": 2,
   "id": "6d51986d-c9f2-497e-ad2a-254c3e1a633b",
   "metadata": {},
   "outputs": [
    {
     "name": "stdout",
     "output_type": "stream",
     "text": [
      "Prajwal Sharma\n"
     ]
    }
   ],
   "source": [
    "Prajwal = \"Prajwal \"\n",
    "Sharma = \"Sharma\"\n",
    "print(Prajwal + Sharma )"
   ]
  },
  {
   "cell_type": "code",
   "execution_count": null,
   "id": "c631f122-a91e-4542-836b-1b16a37764d8",
   "metadata": {},
   "outputs": [],
   "source": []
  }
 ],
 "metadata": {
  "kernelspec": {
   "display_name": "Python 3 (ipykernel)",
   "language": "python",
   "name": "python3"
  },
  "language_info": {
   "codemirror_mode": {
    "name": "ipython",
    "version": 3
   },
   "file_extension": ".py",
   "mimetype": "text/x-python",
   "name": "python",
   "nbconvert_exporter": "python",
   "pygments_lexer": "ipython3",
   "version": "3.8.17"
  },
  "widgets": {
   "application/vnd.jupyter.widget-state+json": {
    "state": {},
    "version_major": 2,
    "version_minor": 0
   }
  }
 },
 "nbformat": 4,
 "nbformat_minor": 5
}
