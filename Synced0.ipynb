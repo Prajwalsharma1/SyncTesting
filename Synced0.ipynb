{
  "cells": [
    {
      "cell_type": "code",
      "execution_count": 1,
      "id": "6d51986d-c9f2-497e-ad2a-254c3e1a633b",
      "metadata": {
        "id": "6d51986d-c9f2-497e-ad2a-254c3e1a633b",
        "outputId": "0994d7d6-a839-4c51-dbd8-27a7c94f4bc0",
        "colab": {
          "base_uri": "https://localhost:8080/"
        }
      },
      "outputs": [
        {
          "output_type": "stream",
          "name": "stdout",
          "text": [
            "Prajwal Sharma\n"
          ]
        }
      ],
      "source": [
        "Prajwal = \"Prajwal \"\n",
        "Sharma = \"Sharma\"\n",
        "print(Prajwal + Sharma )"
      ]
    },
    {
      "cell_type": "code",
      "execution_count": 2,
      "id": "c631f122-a91e-4542-836b-1b16a37764d8",
      "metadata": {
        "id": "c631f122-a91e-4542-836b-1b16a37764d8",
        "outputId": "afbb0aa3-19e2-47b8-827f-df8857db0b09",
        "colab": {
          "base_uri": "https://localhost:8080/"
        }
      },
      "outputs": [
        {
          "output_type": "stream",
          "name": "stdout",
          "text": [
            "Prajwal Sharma\n"
          ]
        }
      ],
      "source": [
        "Prajwal = \"Prajwal \"\n",
        "Sharma = \"Sharma\"\n",
        "print(Prajwal + Sharma )"
      ]
    },
    {
      "cell_type": "code",
      "source": [
        "Prajwal = \"Prajwal \"\n",
        "Sharma = \"Sharma\"\n",
        "print(Prajwal + Sharma )"
      ],
      "metadata": {
        "id": "sxSKtZ1ET1QN",
        "outputId": "3addd90f-ae4b-4510-bd40-ec78d18e00d1",
        "colab": {
          "base_uri": "https://localhost:8080/"
        }
      },
      "id": "sxSKtZ1ET1QN",
      "execution_count": 3,
      "outputs": [
        {
          "output_type": "stream",
          "name": "stdout",
          "text": [
            "Prajwal Sharma\n"
          ]
        }
      ]
    },
    {
      "cell_type": "code",
      "source": [],
      "metadata": {
        "id": "LLAOVVAjT10X"
      },
      "id": "LLAOVVAjT10X",
      "execution_count": null,
      "outputs": []
    }
  ],
  "metadata": {
    "kernelspec": {
      "display_name": "Python 3 (ipykernel)",
      "language": "python",
      "name": "python3"
    },
    "language_info": {
      "codemirror_mode": {
        "name": "ipython",
        "version": 3
      },
      "file_extension": ".py",
      "mimetype": "text/x-python",
      "name": "python",
      "nbconvert_exporter": "python",
      "pygments_lexer": "ipython3",
      "version": "3.8.17"
    },
    "colab": {
      "provenance": []
    }
  },
  "nbformat": 4,
  "nbformat_minor": 5
}